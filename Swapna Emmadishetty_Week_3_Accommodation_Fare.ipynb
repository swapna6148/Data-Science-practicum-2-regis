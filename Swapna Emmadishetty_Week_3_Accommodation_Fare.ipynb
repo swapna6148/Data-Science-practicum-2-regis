{
 "cells": [
  {
   "cell_type": "code",
   "execution_count": 1,
   "id": "865294a0",
   "metadata": {},
   "outputs": [],
   "source": [
    "import numpy as np\n",
    "import pandas as pd\n",
    "import matplotlib.pyplot as plt\n",
    "import seaborn as sns"
   ]
  },
  {
   "cell_type": "markdown",
   "id": "e413217e",
   "metadata": {},
   "source": [
    "Reading the datasets below"
   ]
  },
  {
   "cell_type": "code",
   "execution_count": 2,
   "id": "a7b8590a",
   "metadata": {},
   "outputs": [],
   "source": [
    "df_train = pd.read_excel(\"train.xlsx\")\n",
    "df_test = pd.read_excel(\"test.xlsx\")\n",
    "df_val=pd.read_excel('validate.xlsx')"
   ]
  },
  {
   "cell_type": "code",
   "execution_count": 3,
   "id": "6176dce8",
   "metadata": {},
   "outputs": [],
   "source": [
    "#Reading locations.txt\n",
    "\n",
    "f = open('locations.txt','r')\n",
    "loc = f.read()\n",
    "loc = loc.replace('\"','')\n",
    "loc = loc.strip('][\\n').split(\",\")"
   ]
  },
  {
   "cell_type": "code",
   "execution_count": 4,
   "id": "ac6da8bb",
   "metadata": {},
   "outputs": [],
   "source": [
    "#Reading pincodes.txt\n",
    "\n",
    "f = open('pincodes.txt','r')\n",
    "pin= f.read()\n",
    "pin = pin.replace('\"','')\n",
    "pin = pin.strip('][').split(\",\")\n",
    "pin = list(map(int,pin))"
   ]
  },
  {
   "cell_type": "code",
   "execution_count": 5,
   "id": "c1edd3fb",
   "metadata": {},
   "outputs": [],
   "source": [
    "#Mapping location to pincode and adding pincode column to dataset\n",
    "\n",
    "l_p=dict(zip(loc,pin))\n",
    "df_train['Pincode']=df_train['Location'].map(l_p)\n",
    "df_test['Pincode']=df_test['Location'].map(l_p)\n",
    "df_val['Pincode']=df_val['Location'].map(l_p)"
   ]
  },
  {
   "cell_type": "markdown",
   "id": "3be69ea7",
   "metadata": {},
   "source": [
    "EDA, Data Cleaning, Data processing (Imputation, categorical variables, variable encoding, feature engineering etc)"
   ]
  },
  {
   "cell_type": "code",
   "execution_count": 6,
   "id": "ab8f3b66",
   "metadata": {},
   "outputs": [
    {
     "name": "stdout",
     "output_type": "stream",
     "text": [
      "<class 'pandas.core.frame.DataFrame'>\n",
      "RangeIndex: 810 entries, 0 to 809\n",
      "Data columns (total 10 columns):\n",
      " #   Column      Non-Null Count  Dtype  \n",
      "---  ------      --------------  -----  \n",
      " 0   Bedrooms    810 non-null    object \n",
      " 1   Bathrooms   810 non-null    object \n",
      " 2   Facing      810 non-null    object \n",
      " 3   Furnishing  810 non-null    object \n",
      " 4   Tennants    810 non-null    object \n",
      " 5   Area        770 non-null    object \n",
      " 6   Price       810 non-null    object \n",
      " 7   Locality    810 non-null    object \n",
      " 8   Location    807 non-null    object \n",
      " 9   Pincode     799 non-null    float64\n",
      "dtypes: float64(1), object(9)\n",
      "memory usage: 63.4+ KB\n"
     ]
    }
   ],
   "source": [
    "df_train.info()"
   ]
  },
  {
   "cell_type": "code",
   "execution_count": 7,
   "id": "ca82f682",
   "metadata": {},
   "outputs": [
    {
     "data": {
      "text/plain": [
       "Bedrooms       0\n",
       "Bathrooms      0\n",
       "Facing         0\n",
       "Furnishing     0\n",
       "Tennants       0\n",
       "Area          40\n",
       "Price          0\n",
       "Locality       0\n",
       "Location       3\n",
       "Pincode       11\n",
       "dtype: int64"
      ]
     },
     "execution_count": 7,
     "metadata": {},
     "output_type": "execute_result"
    }
   ],
   "source": [
    "df_train.isnull().sum()"
   ]
  },
  {
   "cell_type": "code",
   "execution_count": 8,
   "id": "45d35d4e",
   "metadata": {},
   "outputs": [
    {
     "data": {
      "text/plain": [
       "Bedrooms      0\n",
       "Bathrooms     5\n",
       "Facing        5\n",
       "Furnishing    0\n",
       "Tennants      1\n",
       "Area          6\n",
       "Price         0\n",
       "Locality      0\n",
       "Location      0\n",
       "Pincode       2\n",
       "dtype: int64"
      ]
     },
     "execution_count": 8,
     "metadata": {},
     "output_type": "execute_result"
    }
   ],
   "source": [
    "df_test.isnull().sum()"
   ]
  },
  {
   "cell_type": "code",
   "execution_count": 9,
   "id": "20ec8fc6",
   "metadata": {},
   "outputs": [],
   "source": [
    "#Cleaning Bathrooms column\n",
    "\n",
    "def clean_bath(val):\n",
    "  if type(val) is int:\n",
    "    return val\n",
    "  return None\n",
    "df_train['Bathrooms'] = df_train['Bathrooms'].apply(clean_bath)\n",
    "df_test['Bathrooms'] = df_test['Bathrooms'].apply(clean_bath)"
   ]
  },
  {
   "cell_type": "code",
   "execution_count": 10,
   "id": "03968b03",
   "metadata": {},
   "outputs": [
    {
     "name": "stderr",
     "output_type": "stream",
     "text": [
      "/Users/agnik/opt/anaconda3/lib/python3.9/site-packages/seaborn/distributions.py:2619: FutureWarning: `distplot` is a deprecated function and will be removed in a future version. Please adapt your code to use either `displot` (a figure-level function with similar flexibility) or `histplot` (an axes-level function for histograms).\n",
      "  warnings.warn(msg, FutureWarning)\n"
     ]
    },
    {
     "data": {
      "text/plain": [
       "<AxesSubplot:xlabel='Bathrooms', ylabel='Density'>"
      ]
     },
     "execution_count": 10,
     "metadata": {},
     "output_type": "execute_result"
    },
    {
     "data": {
      "image/png": "[encoded data removed]",
      "text/plain": [
       "<Figure size 640x480 with 1 Axes>"
      ]
     },
     "metadata": {},
     "output_type": "display_data"
    }
   ],
   "source": [
    "sns.distplot(df_train['Bathrooms'])\n",
    "     "
   ]
  },
  {
   "cell_type": "code",
   "execution_count": 11,
   "id": "b06056f5",
   "metadata": {},
   "outputs": [],
   "source": [
    "df_train['Bathrooms'].fillna(df_train['Bathrooms'].mean(),inplace=True)\n",
    "df_test['Bathrooms'].fillna(df_test['Bathrooms'].mean(),inplace=True)\n",
    "df_train['Bathrooms'] = df_train['Bathrooms'].astype(int)\n",
    "df_test['Bathrooms'] = df_test['Bathrooms'].astype(int)\n",
    "df_val['Bathrooms'].fillna(df_val['Bathrooms'].mean(),inplace=True)\n",
    "df_val['Bathrooms'] = df_val['Bathrooms'].astype(int)"
   ]
  },
  {
   "cell_type": "code",
   "execution_count": 12,
   "id": "823b8f52",
   "metadata": {},
   "outputs": [],
   "source": [
    "#Cleaning Facing column\n",
    "\n",
    "def clean_facing(val):\n",
    "  if val in ['North','East','West','South','Main Road','North - East','North - West','South - West','South - East']:\n",
    "    return val\n",
    "  return None\n",
    "df_train['Facing']=df_train['Facing'].apply(clean_facing)\n",
    "df_test['Facing']=df_test['Facing'].apply(clean_facing)\n",
    "df_val['Facing']=df_val['Facing'].apply(lambda x:x.capitalize())\n",
    "df_val['Facing']=df_val['Facing'].apply(clean_facing)"
   ]
  },
  {
   "cell_type": "code",
   "execution_count": 13,
   "id": "59d71ca7",
   "metadata": {},
   "outputs": [
    {
     "name": "stderr",
     "output_type": "stream",
     "text": [
      "/Users/agnik/opt/anaconda3/lib/python3.9/site-packages/seaborn/_decorators.py:36: FutureWarning: Pass the following variable as a keyword arg: x. From version 0.12, the only valid positional argument will be `data`, and passing other arguments without an explicit keyword will result in an error or misinterpretation.\n",
      "  warnings.warn(\n"
     ]
    },
    {
     "data": {
      "text/plain": [
       "<AxesSubplot:xlabel='Facing', ylabel='count'>"
      ]
     },
     "execution_count": 13,
     "metadata": {},
     "output_type": "execute_result"
    },
    {
     "data": {
      "image/png": "[encoded data removed]",
      "text/plain": [
       "<Figure size 1500x500 with 1 Axes>"
      ]
     },
     "metadata": {},
     "output_type": "display_data"
    }
   ],
   "source": [
    "plt.figure(figsize=(15,5))\n",
    "sns.countplot(df_train['Facing'])"
   ]
  },
  {
   "cell_type": "code",
   "execution_count": 14,
   "id": "a78865f7",
   "metadata": {},
   "outputs": [],
   "source": [
    "df_train['Facing'].fillna(df_train['Facing'].mode()[0],inplace=True)\n",
    "df_test['Facing'].fillna(df_test['Facing'].mode()[0],inplace=True)\n",
    "df_val['Facing'].fillna(df_val['Facing'].mode()[0],inplace=True)"
   ]
  },
  {
   "cell_type": "code",
   "execution_count": 15,
   "id": "c5c2f30a",
   "metadata": {},
   "outputs": [],
   "source": [
    "#Cleaning Furnishing column\n",
    "\n",
    "def clean_furnish(val):\n",
    "  if val in ['Unfurnished','Furnished','Semi-Furnished']:\n",
    "    return val\n",
    "  return None\n",
    "df_train['Furnishing']=df_train['Furnishing'].apply(clean_furnish)\n",
    "df_test['Furnishing']=df_test['Furnishing'].apply(clean_furnish)\n",
    "df_val['Furnishing']=df_val['Furnishing'].apply(clean_furnish)"
   ]
  },
  {
   "cell_type": "code",
   "execution_count": 16,
   "id": "77f80539",
   "metadata": {},
   "outputs": [
    {
     "name": "stderr",
     "output_type": "stream",
     "text": [
      "/Users/agnik/opt/anaconda3/lib/python3.9/site-packages/seaborn/_decorators.py:36: FutureWarning: Pass the following variable as a keyword arg: x. From version 0.12, the only valid positional argument will be `data`, and passing other arguments without an explicit keyword will result in an error or misinterpretation.\n",
      "  warnings.warn(\n"
     ]
    },
    {
     "data": {
      "text/plain": [
       "<AxesSubplot:xlabel='Furnishing', ylabel='count'>"
      ]
     },
     "execution_count": 16,
     "metadata": {},
     "output_type": "execute_result"
    },
    {
     "data": {
      "image/png": "[encoded data removed]",
      "text/plain": [
       "<Figure size 640x480 with 1 Axes>"
      ]
     },
     "metadata": {},
     "output_type": "display_data"
    }
   ],
   "source": [
    "sns.countplot(df_train['Furnishing'])"
   ]
  },
  {
   "cell_type": "code",
   "execution_count": 17,
   "id": "9bcd175e",
   "metadata": {},
   "outputs": [],
   "source": [
    "df_train['Furnishing'].fillna(df_train['Furnishing'].mode()[0],inplace=True)\n",
    "df_test['Furnishing'].fillna(df_test['Furnishing'].mode()[0],inplace=True)\n",
    "df_val['Furnishing'].fillna(df_val['Furnishing'].mode()[0],inplace=True)"
   ]
  },
  {
   "cell_type": "code",
   "execution_count": 18,
   "id": "108177f8",
   "metadata": {},
   "outputs": [],
   "source": [
    "#Convert the Multi-Value Column ('Tennants') to Multiple Rows\n",
    "\n",
    "# df_train['Tennants']=df_train['Tennants'].str.split(\"/\")\n",
    "# df_train=df_train.explode('Tennants')\n",
    "# df_test['Tennants']=df_test['Tennants'].str.split(\"/\")\n",
    "# df_test=df_test.explode('Tennants')"
   ]
  },
  {
   "cell_type": "code",
   "execution_count": 19,
   "id": "fb376330",
   "metadata": {},
   "outputs": [],
   "source": [
    "#Cleaning Tennants column\n",
    "\n",
    "def clean_ten(val):\n",
    "  if val in ['Family','Bachelors','Bachelors/Family']:\n",
    "    return val\n",
    "  return None\n",
    "df_train['Tennants']=df_train['Tennants'].apply(clean_ten)\n",
    "df_test['Tennants']=df_test['Tennants'].apply(clean_ten)\n",
    "df_val['Tennants']=df_val['Tennants'].apply(clean_ten)"
   ]
  },
  {
   "cell_type": "code",
   "execution_count": 20,
   "id": "fe74b634",
   "metadata": {},
   "outputs": [
    {
     "name": "stderr",
     "output_type": "stream",
     "text": [
      "/Users/agnik/opt/anaconda3/lib/python3.9/site-packages/seaborn/_decorators.py:36: FutureWarning: Pass the following variable as a keyword arg: x. From version 0.12, the only valid positional argument will be `data`, and passing other arguments without an explicit keyword will result in an error or misinterpretation.\n",
      "  warnings.warn(\n"
     ]
    },
    {
     "data": {
      "text/plain": [
       "<AxesSubplot:xlabel='Tennants', ylabel='count'>"
      ]
     },
     "execution_count": 20,
     "metadata": {},
     "output_type": "execute_result"
    },
    {
     "data": {
      "image/png": "[encoded data removed]",
      "text/plain": [
       "<Figure size 640x480 with 1 Axes>"
      ]
     },
     "metadata": {},
     "output_type": "display_data"
    }
   ],
   "source": [
    "sns.countplot(df_train['Tennants'])"
   ]
  },
  {
   "cell_type": "code",
   "execution_count": 21,
   "id": "4be92a29",
   "metadata": {},
   "outputs": [],
   "source": [
    "df_train['Tennants'].fillna(df_train['Tennants'].mode()[0],inplace=True)\n",
    "df_test['Tennants'].fillna(df_test['Tennants'].mode()[0],inplace=True)\n",
    "df_val['Tennants'].fillna(df_val['Tennants'].mode()[0],inplace=True)"
   ]
  },
  {
   "cell_type": "code",
   "execution_count": 22,
   "id": "65cca4ef",
   "metadata": {},
   "outputs": [],
   "source": [
    "df_train['Area'].fillna('k',inplace=True)\n",
    "df_test['Area'].fillna('k',inplace=True)\n",
    "df_val['Area'].fillna('k',inplace=True)"
   ]
  },
  {
   "cell_type": "code",
   "execution_count": 23,
   "id": "6affc3cf",
   "metadata": {},
   "outputs": [],
   "source": [
    "#Cleaning Area Column\n",
    "\n",
    "def clean_area(val):\n",
    "  val=str(val)\n",
    "  if val=='k' or val=='read more':\n",
    "    return 0  \n",
    "  if ',' in val:\n",
    "    val=val.replace(\",\",\"\")\n",
    "  if val.endswith('sqyrd'):\n",
    "    return int(val.strip('sqyrd'))*9\n",
    "  elif val.endswith('ground'):\n",
    "    return int(val.strip('ground'))*2400\n",
    "  return int(val.strip('sqft'))\n",
    "df_train['Area']=df_train['Area'].apply(clean_area)\n",
    "df_test['Area']=df_test['Area'].apply(clean_area)\n",
    "df_val['Area']=df_val['Area'].apply(clean_area)"
   ]
  },
  {
   "cell_type": "code",
   "execution_count": 24,
   "id": "84a8a1e2",
   "metadata": {},
   "outputs": [],
   "source": [
    "df_train['Area'].replace(0,df_train['Area'].mean(),inplace=True)\n",
    "df_train['Area']=df_train['Area'].astype(int)\n",
    "df_test['Area'].replace(0,df_test['Area'].mean(),inplace=True)\n",
    "df_test['Area']=df_test['Area'].astype(int)\n",
    "df_val['Area'].replace(0,df_val['Area'].mean(),inplace=True)\n",
    "df_val['Area']=df_val['Area'].astype(int)"
   ]
  },
  {
   "cell_type": "code",
   "execution_count": 25,
   "id": "db2f65d2",
   "metadata": {},
   "outputs": [],
   "source": [
    "#Cleaning Price column\n",
    "def clean_price(val):\n",
    "  val=str(val)\n",
    "  if ',' in val:\n",
    "    val=val.replace(\",\",\"\")\n",
    "  return int(val)\n",
    "  \n",
    "df_train['Price']=df_train['Price'].apply(clean_price)\n",
    "df_test['Price']=df_test['Price'].apply(clean_price)"
   ]
  },
  {
   "cell_type": "markdown",
   "id": "7335f4b4",
   "metadata": {},
   "source": [
    "Cleaning Location and Pincode"
   ]
  },
  {
   "cell_type": "code",
   "execution_count": 26,
   "id": "37fad30b",
   "metadata": {},
   "outputs": [],
   "source": [
    "df_train['Location'].fillna(df_train['Location'].mode()[0],inplace=True)\n",
    "df_test['Location'].fillna(df_test['Location'].mode()[0],inplace=True)\n",
    "df_val['Location'].fillna(df_val['Location'].mode()[0],inplace=True)"
   ]
  },
  {
   "cell_type": "code",
   "execution_count": 27,
   "id": "497982cd",
   "metadata": {},
   "outputs": [],
   "source": [
    "df_train['Pincode'].fillna(df_train['Pincode'].mode()[0],inplace=True)\n",
    "df_test['Pincode'].fillna(df_test['Pincode'].mode()[0],inplace=True)\n",
    "df_train['Pincode']=df_train['Pincode'].astype(int)\n",
    "df_test['Pincode']=df_test['Pincode'].astype(int)"
   ]
  },
  {
   "cell_type": "code",
   "execution_count": 28,
   "id": "5afed175",
   "metadata": {},
   "outputs": [
    {
     "data": {
      "text/html": [
       "<div>\n",
       "<style scoped>\n",
       "    .dataframe tbody tr th:only-of-type {\n",
       "        vertical-align: middle;\n",
       "    }\n",
       "\n",
       "    .dataframe tbody tr th {\n",
       "        vertical-align: top;\n",
       "    }\n",
       "\n",
       "    .dataframe thead th {\n",
       "        text-align: right;\n",
       "    }\n",
       "</style>\n",
       "<table border=\"1\" class=\"dataframe\">\n",
       "  <thead>\n",
       "    <tr style=\"text-align: right;\">\n",
       "      <th></th>\n",
       "      <th>Bedrooms</th>\n",
       "      <th>Bathrooms</th>\n",
       "      <th>Facing</th>\n",
       "      <th>Furnishing</th>\n",
       "      <th>Tennants</th>\n",
       "      <th>Area</th>\n",
       "      <th>Price</th>\n",
       "      <th>Locality</th>\n",
       "      <th>Location</th>\n",
       "      <th>Pincode</th>\n",
       "    </tr>\n",
       "  </thead>\n",
       "  <tbody>\n",
       "    <tr>\n",
       "      <th>0</th>\n",
       "      <td>3 BHK Apartment</td>\n",
       "      <td>2</td>\n",
       "      <td>East</td>\n",
       "      <td>Furnished</td>\n",
       "      <td>Bachelors/Family</td>\n",
       "      <td>1800</td>\n",
       "      <td>35000</td>\n",
       "      <td>Khairatabad, NH</td>\n",
       "      <td>Khairatabad</td>\n",
       "      <td>500004</td>\n",
       "    </tr>\n",
       "    <tr>\n",
       "      <th>1</th>\n",
       "      <td>3 BHK Apartment</td>\n",
       "      <td>2</td>\n",
       "      <td>East</td>\n",
       "      <td>Unfurnished</td>\n",
       "      <td>Bachelors</td>\n",
       "      <td>1495</td>\n",
       "      <td>23000</td>\n",
       "      <td>SMR Vinay City, Miyapur, NH</td>\n",
       "      <td>Miyapur</td>\n",
       "      <td>500050</td>\n",
       "    </tr>\n",
       "    <tr>\n",
       "      <th>2</th>\n",
       "      <td>3 BHK Builder Floor</td>\n",
       "      <td>2</td>\n",
       "      <td>Main Road</td>\n",
       "      <td>Semi-Furnished</td>\n",
       "      <td>Bachelors/Family</td>\n",
       "      <td>1800</td>\n",
       "      <td>16000</td>\n",
       "      <td>Old Malakpet, NH</td>\n",
       "      <td>Dilshuknagar</td>\n",
       "      <td>500068</td>\n",
       "    </tr>\n",
       "    <tr>\n",
       "      <th>3</th>\n",
       "      <td>3 BHK Apartment</td>\n",
       "      <td>2</td>\n",
       "      <td>East</td>\n",
       "      <td>Semi-Furnished</td>\n",
       "      <td>Bachelors/Family</td>\n",
       "      <td>1200</td>\n",
       "      <td>20000</td>\n",
       "      <td>Brindavan Colony-Toli Chowki</td>\n",
       "      <td>Mehdipatnam</td>\n",
       "      <td>500028</td>\n",
       "    </tr>\n",
       "    <tr>\n",
       "      <th>4</th>\n",
       "      <td>2 BHK Apartment</td>\n",
       "      <td>2</td>\n",
       "      <td>East</td>\n",
       "      <td>Furnished</td>\n",
       "      <td>Bachelors/Family</td>\n",
       "      <td>1050</td>\n",
       "      <td>28000</td>\n",
       "      <td>Police Colony-Kondapur</td>\n",
       "      <td>Kondapur</td>\n",
       "      <td>500032</td>\n",
       "    </tr>\n",
       "  </tbody>\n",
       "</table>\n",
       "</div>"
      ],
      "text/plain": [
       "              Bedrooms  Bathrooms     Facing      Furnishing  \\\n",
       "0      3 BHK Apartment          2       East       Furnished   \n",
       "1      3 BHK Apartment          2       East     Unfurnished   \n",
       "2  3 BHK Builder Floor          2  Main Road  Semi-Furnished   \n",
       "3      3 BHK Apartment          2       East  Semi-Furnished   \n",
       "4      2 BHK Apartment          2       East       Furnished   \n",
       "\n",
       "           Tennants  Area  Price                      Locality      Location  \\\n",
       "0  Bachelors/Family  1800  35000               Khairatabad, NH   Khairatabad   \n",
       "1         Bachelors  1495  23000   SMR Vinay City, Miyapur, NH       Miyapur   \n",
       "2  Bachelors/Family  1800  16000              Old Malakpet, NH  Dilshuknagar   \n",
       "3  Bachelors/Family  1200  20000  Brindavan Colony-Toli Chowki   Mehdipatnam   \n",
       "4  Bachelors/Family  1050  28000        Police Colony-Kondapur      Kondapur   \n",
       "\n",
       "   Pincode  \n",
       "0   500004  \n",
       "1   500050  \n",
       "2   500068  \n",
       "3   500028  \n",
       "4   500032  "
      ]
     },
     "execution_count": 28,
     "metadata": {},
     "output_type": "execute_result"
    }
   ],
   "source": [
    "df_train.head()"
   ]
  },
  {
   "cell_type": "code",
   "execution_count": 29,
   "id": "bee408c7",
   "metadata": {},
   "outputs": [
    {
     "data": {
      "text/html": [
       "<div>\n",
       "<style scoped>\n",
       "    .dataframe tbody tr th:only-of-type {\n",
       "        vertical-align: middle;\n",
       "    }\n",
       "\n",
       "    .dataframe tbody tr th {\n",
       "        vertical-align: top;\n",
       "    }\n",
       "\n",
       "    .dataframe thead th {\n",
       "        text-align: right;\n",
       "    }\n",
       "</style>\n",
       "<table border=\"1\" class=\"dataframe\">\n",
       "  <thead>\n",
       "    <tr style=\"text-align: right;\">\n",
       "      <th></th>\n",
       "      <th>Bedrooms</th>\n",
       "      <th>Bathrooms</th>\n",
       "      <th>Facing</th>\n",
       "      <th>Furnishing</th>\n",
       "      <th>Tennants</th>\n",
       "      <th>Area</th>\n",
       "      <th>Price</th>\n",
       "      <th>Locality</th>\n",
       "      <th>Location</th>\n",
       "      <th>Pincode</th>\n",
       "    </tr>\n",
       "  </thead>\n",
       "  <tbody>\n",
       "    <tr>\n",
       "      <th>0</th>\n",
       "      <td>2 BHK Apartment</td>\n",
       "      <td>2</td>\n",
       "      <td>East</td>\n",
       "      <td>Semi-Furnished</td>\n",
       "      <td>Bachelors/Family</td>\n",
       "      <td>1200</td>\n",
       "      <td>10000</td>\n",
       "      <td>Uppal Metro</td>\n",
       "      <td>Uppal</td>\n",
       "      <td>500007</td>\n",
       "    </tr>\n",
       "    <tr>\n",
       "      <th>1</th>\n",
       "      <td>3 BHK Apartment</td>\n",
       "      <td>3</td>\n",
       "      <td>West</td>\n",
       "      <td>Semi-Furnished</td>\n",
       "      <td>Bachelors/Family</td>\n",
       "      <td>1834</td>\n",
       "      <td>40000</td>\n",
       "      <td>My Home Avatar, Narsingi, Outer Ring Road</td>\n",
       "      <td>Narsingi</td>\n",
       "      <td>500032</td>\n",
       "    </tr>\n",
       "    <tr>\n",
       "      <th>2</th>\n",
       "      <td>2 BHK Apartment</td>\n",
       "      <td>2</td>\n",
       "      <td>East</td>\n",
       "      <td>Unfurnished</td>\n",
       "      <td>Bachelors</td>\n",
       "      <td>1493</td>\n",
       "      <td>9500</td>\n",
       "      <td>Uppal, NH</td>\n",
       "      <td>Uppal</td>\n",
       "      <td>500007</td>\n",
       "    </tr>\n",
       "    <tr>\n",
       "      <th>3</th>\n",
       "      <td>2 BHK Apartment</td>\n",
       "      <td>2</td>\n",
       "      <td>East</td>\n",
       "      <td>Semi-Furnished</td>\n",
       "      <td>Bachelors/Family</td>\n",
       "      <td>1100</td>\n",
       "      <td>13000</td>\n",
       "      <td>New Bowenpally, NH</td>\n",
       "      <td>Bowenpally</td>\n",
       "      <td>500067</td>\n",
       "    </tr>\n",
       "    <tr>\n",
       "      <th>4</th>\n",
       "      <td>2 BHK Apartment</td>\n",
       "      <td>2</td>\n",
       "      <td>East</td>\n",
       "      <td>Semi-Furnished</td>\n",
       "      <td>Family</td>\n",
       "      <td>1200</td>\n",
       "      <td>16000</td>\n",
       "      <td>KPHB</td>\n",
       "      <td>KPHB</td>\n",
       "      <td>500018</td>\n",
       "    </tr>\n",
       "  </tbody>\n",
       "</table>\n",
       "</div>"
      ],
      "text/plain": [
       "          Bedrooms  Bathrooms Facing      Furnishing          Tennants  Area  \\\n",
       "0  2 BHK Apartment          2   East  Semi-Furnished  Bachelors/Family  1200   \n",
       "1  3 BHK Apartment          3   West  Semi-Furnished  Bachelors/Family  1834   \n",
       "2  2 BHK Apartment          2   East     Unfurnished         Bachelors  1493   \n",
       "3  2 BHK Apartment          2   East  Semi-Furnished  Bachelors/Family  1100   \n",
       "4  2 BHK Apartment          2   East  Semi-Furnished            Family  1200   \n",
       "\n",
       "   Price                                   Locality    Location  Pincode  \n",
       "0  10000                                Uppal Metro       Uppal   500007  \n",
       "1  40000  My Home Avatar, Narsingi, Outer Ring Road    Narsingi   500032  \n",
       "2   9500                                  Uppal, NH       Uppal   500007  \n",
       "3  13000                         New Bowenpally, NH  Bowenpally   500067  \n",
       "4  16000                                       KPHB        KPHB   500018  "
      ]
     },
     "execution_count": 29,
     "metadata": {},
     "output_type": "execute_result"
    }
   ],
   "source": [
    "df_test.head()"
   ]
  }
 ],
 "metadata": {
  "kernelspec": {
   "display_name": "Python 3 (ipykernel)",
   "language": "python",
   "name": "python3"
  },
  "language_info": {
   "codemirror_mode": {
    "name": "ipython",
    "version": 3
   },
   "file_extension": ".py",
   "mimetype": "text/x-python",
   "name": "python",
   "nbconvert_exporter": "python",
   "pygments_lexer": "ipython3",
   "version": "3.9.13"
  }
 },
 "nbformat": 4,
 "nbformat_minor": 5
}
